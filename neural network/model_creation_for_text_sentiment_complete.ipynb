{
 "cells": [
  {
   "cell_type": "code",
   "execution_count": 1,
   "metadata": {},
   "outputs": [
    {
     "name": "stdout",
     "output_type": "stream",
     "text": [
      "Model: \"sequential\"\n",
      "_________________________________________________________________\n",
      "Layer (type)                 Output Shape              Param #   \n",
      "=================================================================\n",
      "embedding (Embedding)        (None, None, 16)          1408000   \n",
      "_________________________________________________________________\n",
      "global_average_pooling1d (Gl (None, 16)                0         \n",
      "_________________________________________________________________\n",
      "dense (Dense)                (None, 16)                272       \n",
      "_________________________________________________________________\n",
      "dense_1 (Dense)              (None, 1)                 17        \n",
      "=================================================================\n",
      "Total params: 1,408,289\n",
      "Trainable params: 1,408,289\n",
      "Non-trainable params: 0\n",
      "_________________________________________________________________\n"
     ]
    }
   ],
   "source": [
    "import tensorflow as tf\n",
    "from tensorflow import keras\n",
    "import numpy as np\n",
    "\n",
    "data = keras.datasets.imdb\n",
    "\n",
    "(train_data, train_labels), (test_data, test_labels) = data.load_data(num_words=88000)\n",
    "\n",
    "\n",
    "\n",
    "word_index = data.get_word_index() \n",
    "\n",
    "word_index = {k:(v+3) for k, v in word_index.items()}\n",
    "word_index[\"<PAD>\"] = 0\n",
    "word_index[\"<START>\"] = 1\n",
    "word_index[\"<UNK>\"] = 2\n",
    "word_index[\"<UNUSED>\"] = 3\n",
    "\n",
    "reverse_word_index = dict([(value, key) for (key, value) in word_index.items()])\n",
    "\n",
    "\n",
    "def decode_review(text):\n",
    "\treturn \" \".join([reverse_word_index.get(i, \"?\") for i in text])\n",
    "\n",
    "\n",
    "train_data = keras.preprocessing.sequence.pad_sequences(train_data, value=word_index[\"<PAD>\"], padding=\"post\", maxlen=250)\n",
    "test_data = keras.preprocessing.sequence.pad_sequences(test_data, value=word_index[\"<PAD>\"], padding=\"post\", maxlen=250)\n",
    "\n",
    "\n",
    "model = keras.Sequential([\n",
    "    keras.layers.Embedding(88000, 16),\n",
    "    keras.layers.GlobalAveragePooling1D(),\n",
    "    keras.layers.Dense(16, activation=\"relu\"),\n",
    "    keras.layers.Dense(1, activation=\"sigmoid\")\n",
    "])\n",
    "\n",
    "\n",
    "model.summary()  # prints a summary of the model\n",
    "\n",
    "model.compile(optimizer=\"adam\", loss=\"binary_crossentropy\", metrics=[\"accuracy\"])\n",
    "\n",
    "x_val = train_data[:10000]\n",
    "x_train = train_data[10000:]\n",
    "\n",
    "y_val = train_labels[:10000]\n",
    "y_train = train_labels[10000:]\n"
   ]
  },
  {
   "cell_type": "code",
   "execution_count": 2,
   "metadata": {},
   "outputs": [
    {
     "name": "stdout",
     "output_type": "stream",
     "text": [
      "Epoch 1/40\n",
      "30/30 [==============================] - 1s 48ms/step - loss: 0.6918 - accuracy: 0.6166 - val_loss: 0.6893 - val_accuracy: 0.7601\n",
      "Epoch 2/40\n",
      "30/30 [==============================] - 1s 28ms/step - loss: 0.6845 - accuracy: 0.7637 - val_loss: 0.6791 - val_accuracy: 0.7439\n",
      "Epoch 3/40\n",
      "30/30 [==============================] - 1s 28ms/step - loss: 0.6680 - accuracy: 0.7780 - val_loss: 0.6588 - val_accuracy: 0.7749\n",
      "Epoch 4/40\n",
      "30/30 [==============================] - 1s 28ms/step - loss: 0.6387 - accuracy: 0.8009 - val_loss: 0.6274 - val_accuracy: 0.7873\n",
      "Epoch 5/40\n",
      "30/30 [==============================] - 1s 28ms/step - loss: 0.5967 - accuracy: 0.8181 - val_loss: 0.5856 - val_accuracy: 0.7936\n",
      "Epoch 6/40\n",
      "30/30 [==============================] - 1s 28ms/step - loss: 0.5454 - accuracy: 0.8304 - val_loss: 0.5398 - val_accuracy: 0.7976\n",
      "Epoch 7/40\n",
      "30/30 [==============================] - 1s 29ms/step - loss: 0.4891 - accuracy: 0.8503 - val_loss: 0.4921 - val_accuracy: 0.8265\n",
      "Epoch 8/40\n",
      "30/30 [==============================] - 1s 28ms/step - loss: 0.4346 - accuracy: 0.8692 - val_loss: 0.4499 - val_accuracy: 0.8400\n",
      "Epoch 9/40\n",
      "30/30 [==============================] - 1s 28ms/step - loss: 0.3857 - accuracy: 0.8868 - val_loss: 0.4138 - val_accuracy: 0.8510\n",
      "Epoch 10/40\n",
      "30/30 [==============================] - 1s 29ms/step - loss: 0.3434 - accuracy: 0.8993 - val_loss: 0.3847 - val_accuracy: 0.8586\n",
      "Epoch 11/40\n",
      "30/30 [==============================] - 1s 29ms/step - loss: 0.3077 - accuracy: 0.9085 - val_loss: 0.3614 - val_accuracy: 0.8676\n",
      "Epoch 12/40\n",
      "30/30 [==============================] - 1s 30ms/step - loss: 0.2775 - accuracy: 0.9165 - val_loss: 0.3429 - val_accuracy: 0.8726\n",
      "Epoch 13/40\n",
      "30/30 [==============================] - 1s 29ms/step - loss: 0.2516 - accuracy: 0.9239 - val_loss: 0.3279 - val_accuracy: 0.8756\n",
      "Epoch 14/40\n",
      "30/30 [==============================] - 1s 28ms/step - loss: 0.2292 - accuracy: 0.9315 - val_loss: 0.3164 - val_accuracy: 0.8782\n",
      "Epoch 15/40\n",
      "30/30 [==============================] - 1s 28ms/step - loss: 0.2092 - accuracy: 0.9389 - val_loss: 0.3071 - val_accuracy: 0.8801\n",
      "Epoch 16/40\n",
      "30/30 [==============================] - 1s 29ms/step - loss: 0.1916 - accuracy: 0.9447 - val_loss: 0.2998 - val_accuracy: 0.8811\n",
      "Epoch 17/40\n",
      "30/30 [==============================] - 1s 29ms/step - loss: 0.1761 - accuracy: 0.9501 - val_loss: 0.2949 - val_accuracy: 0.8836\n",
      "Epoch 18/40\n",
      "30/30 [==============================] - 1s 28ms/step - loss: 0.1624 - accuracy: 0.9550 - val_loss: 0.2880 - val_accuracy: 0.8862\n",
      "Epoch 19/40\n",
      "30/30 [==============================] - 1s 28ms/step - loss: 0.1490 - accuracy: 0.9609 - val_loss: 0.2847 - val_accuracy: 0.8865\n",
      "Epoch 20/40\n",
      "30/30 [==============================] - 1s 28ms/step - loss: 0.1378 - accuracy: 0.9644 - val_loss: 0.2815 - val_accuracy: 0.8874\n",
      "Epoch 21/40\n",
      "30/30 [==============================] - 1s 29ms/step - loss: 0.1272 - accuracy: 0.9679 - val_loss: 0.2789 - val_accuracy: 0.8886\n",
      "Epoch 22/40\n",
      "30/30 [==============================] - 1s 29ms/step - loss: 0.1175 - accuracy: 0.9722 - val_loss: 0.2776 - val_accuracy: 0.8879\n",
      "Epoch 23/40\n",
      "30/30 [==============================] - 1s 28ms/step - loss: 0.1086 - accuracy: 0.9755 - val_loss: 0.2762 - val_accuracy: 0.8894\n",
      "Epoch 24/40\n",
      "30/30 [==============================] - 1s 28ms/step - loss: 0.1006 - accuracy: 0.9782 - val_loss: 0.2756 - val_accuracy: 0.8901\n",
      "Epoch 25/40\n",
      "30/30 [==============================] - 1s 28ms/step - loss: 0.0933 - accuracy: 0.9805 - val_loss: 0.2756 - val_accuracy: 0.8911\n",
      "Epoch 26/40\n",
      "30/30 [==============================] - 1s 29ms/step - loss: 0.0865 - accuracy: 0.9829 - val_loss: 0.2768 - val_accuracy: 0.8903\n",
      "Epoch 27/40\n",
      "30/30 [==============================] - 1s 29ms/step - loss: 0.0806 - accuracy: 0.9840 - val_loss: 0.2769 - val_accuracy: 0.8896\n",
      "Epoch 28/40\n",
      "30/30 [==============================] - 1s 28ms/step - loss: 0.0748 - accuracy: 0.9860 - val_loss: 0.2775 - val_accuracy: 0.8913\n",
      "Epoch 29/40\n",
      "30/30 [==============================] - 1s 31ms/step - loss: 0.0696 - accuracy: 0.9869 - val_loss: 0.2789 - val_accuracy: 0.8912\n",
      "Epoch 30/40\n",
      "30/30 [==============================] - 1s 28ms/step - loss: 0.0649 - accuracy: 0.9883 - val_loss: 0.2816 - val_accuracy: 0.8897\n",
      "Epoch 31/40\n",
      "30/30 [==============================] - 1s 29ms/step - loss: 0.0604 - accuracy: 0.9895 - val_loss: 0.2830 - val_accuracy: 0.8897\n",
      "Epoch 32/40\n",
      "30/30 [==============================] - 1s 28ms/step - loss: 0.0564 - accuracy: 0.9908 - val_loss: 0.2840 - val_accuracy: 0.8901\n",
      "Epoch 33/40\n",
      "30/30 [==============================] - 1s 38ms/step - loss: 0.0527 - accuracy: 0.9919 - val_loss: 0.2864 - val_accuracy: 0.8894\n",
      "Epoch 34/40\n",
      "30/30 [==============================] - 1s 27ms/step - loss: 0.0495 - accuracy: 0.9923 - val_loss: 0.2889 - val_accuracy: 0.8889\n",
      "Epoch 35/40\n",
      "30/30 [==============================] - 1s 28ms/step - loss: 0.0462 - accuracy: 0.9929 - val_loss: 0.2916 - val_accuracy: 0.8893\n",
      "Epoch 36/40\n",
      "30/30 [==============================] - 1s 28ms/step - loss: 0.0433 - accuracy: 0.9936 - val_loss: 0.2930 - val_accuracy: 0.8896\n",
      "Epoch 37/40\n",
      "30/30 [==============================] - 1s 29ms/step - loss: 0.0405 - accuracy: 0.9948 - val_loss: 0.2988 - val_accuracy: 0.8867\n",
      "Epoch 38/40\n",
      "30/30 [==============================] - 1s 30ms/step - loss: 0.0381 - accuracy: 0.9949 - val_loss: 0.2982 - val_accuracy: 0.8889\n",
      "Epoch 39/40\n",
      "30/30 [==============================] - 1s 31ms/step - loss: 0.0357 - accuracy: 0.9955 - val_loss: 0.3018 - val_accuracy: 0.8872\n",
      "Epoch 40/40\n",
      "30/30 [==============================] - 1s 31ms/step - loss: 0.0336 - accuracy: 0.9957 - val_loss: 0.3070 - val_accuracy: 0.8864\n"
     ]
    }
   ],
   "source": [
    "fitModel = model.fit(x_train, y_train, epochs=40, batch_size=512, validation_data=(x_val, y_val), verbose=1)"
   ]
  },
  {
   "cell_type": "code",
   "execution_count": 3,
   "metadata": {},
   "outputs": [
    {
     "name": "stdout",
     "output_type": "stream",
     "text": [
      "782/782 [==============================] - 2s 2ms/step - loss: 0.3397 - accuracy: 0.8721\n",
      "[0.33968934416770935, 0.8720800280570984]\n"
     ]
    }
   ],
   "source": [
    "results = model.evaluate(test_data, test_labels)\n",
    "print(results)"
   ]
  },
  {
   "cell_type": "code",
   "execution_count": 4,
   "metadata": {},
   "outputs": [],
   "source": [
    "model.save(\"model_final.h5\")"
   ]
  },
  {
   "cell_type": "code",
   "execution_count": 5,
   "metadata": {},
   "outputs": [
    {
     "name": "stdout",
     "output_type": "stream",
     "text": [
      "2.2.0\n"
     ]
    }
   ],
   "source": [
    "import tensorflow as tf\n",
    "from tensorflow import keras\n",
    "\n",
    "import numpy as np\n",
    "\n",
    "print(tf.__version__)"
   ]
  },
  {
   "cell_type": "code",
   "execution_count": 6,
   "metadata": {},
   "outputs": [
    {
     "name": "stdout",
     "output_type": "stream",
     "text": [
      "WARNING:tensorflow:From <ipython-input-6-a32398aaaac2>:3: is_gpu_available (from tensorflow.python.framework.test_util) is deprecated and will be removed in a future version.\n",
      "Instructions for updating:\n",
      "Use `tf.config.list_physical_devices('GPU')` instead.\n"
     ]
    },
    {
     "data": {
      "text/plain": [
       "True"
      ]
     },
     "execution_count": 6,
     "metadata": {},
     "output_type": "execute_result"
    }
   ],
   "source": [
    "import tensorflow as tf\n",
    "tf.test.is_gpu_available(\n",
    "    cuda_only=False, min_cuda_compute_capability=None\n",
    ")"
   ]
  },
  {
   "cell_type": "code",
   "execution_count": null,
   "metadata": {},
   "outputs": [],
   "source": []
  },
  {
   "cell_type": "code",
   "execution_count": null,
   "metadata": {},
   "outputs": [],
   "source": []
  }
 ],
 "metadata": {
  "kernelspec": {
   "display_name": "Python 3",
   "language": "python",
   "name": "python3"
  },
  "language_info": {
   "codemirror_mode": {
    "name": "ipython",
    "version": 3
   },
   "file_extension": ".py",
   "mimetype": "text/x-python",
   "name": "python",
   "nbconvert_exporter": "python",
   "pygments_lexer": "ipython3",
   "version": "3.7.6"
  }
 },
 "nbformat": 4,
 "nbformat_minor": 4
}
